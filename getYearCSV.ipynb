{
 "cells": [
  {
   "cell_type": "code",
   "execution_count": 1,
   "metadata": {},
   "outputs": [],
   "source": [
    "import os\n",
    "import numpy as np\n",
    "import pandas as pd\n",
    "import networkx as nx\n",
    "import matplotlib.pyplot as plt\n",
    "import tqdm as tqdm"
   ]
  },
  {
   "cell_type": "code",
   "execution_count": 2,
   "metadata": {},
   "outputs": [
    {
     "data": {
      "text/html": [
       "<div>\n",
       "<style scoped>\n",
       "    .dataframe tbody tr th:only-of-type {\n",
       "        vertical-align: middle;\n",
       "    }\n",
       "\n",
       "    .dataframe tbody tr th {\n",
       "        vertical-align: top;\n",
       "    }\n",
       "\n",
       "    .dataframe thead th {\n",
       "        text-align: right;\n",
       "    }\n",
       "</style>\n",
       "<table border=\"1\" class=\"dataframe\">\n",
       "  <thead>\n",
       "    <tr style=\"text-align: right;\">\n",
       "      <th></th>\n",
       "      <th>movieId</th>\n",
       "      <th>title</th>\n",
       "      <th>genres</th>\n",
       "    </tr>\n",
       "  </thead>\n",
       "  <tbody>\n",
       "    <tr>\n",
       "      <th>0</th>\n",
       "      <td>1</td>\n",
       "      <td>Toy Story (1995)</td>\n",
       "      <td>Adventure|Animation|Children|Comedy|Fantasy</td>\n",
       "    </tr>\n",
       "    <tr>\n",
       "      <th>1</th>\n",
       "      <td>2</td>\n",
       "      <td>Jumanji (1995)</td>\n",
       "      <td>Adventure|Children|Fantasy</td>\n",
       "    </tr>\n",
       "    <tr>\n",
       "      <th>2</th>\n",
       "      <td>3</td>\n",
       "      <td>Grumpier Old Men (1995)</td>\n",
       "      <td>Comedy|Romance</td>\n",
       "    </tr>\n",
       "    <tr>\n",
       "      <th>3</th>\n",
       "      <td>4</td>\n",
       "      <td>Waiting to Exhale (1995)</td>\n",
       "      <td>Comedy|Drama|Romance</td>\n",
       "    </tr>\n",
       "    <tr>\n",
       "      <th>4</th>\n",
       "      <td>5</td>\n",
       "      <td>Father of the Bride Part II (1995)</td>\n",
       "      <td>Comedy</td>\n",
       "    </tr>\n",
       "  </tbody>\n",
       "</table>\n",
       "</div>"
      ],
      "text/plain": [
       "   movieId                               title  \\\n",
       "0        1                    Toy Story (1995)   \n",
       "1        2                      Jumanji (1995)   \n",
       "2        3             Grumpier Old Men (1995)   \n",
       "3        4            Waiting to Exhale (1995)   \n",
       "4        5  Father of the Bride Part II (1995)   \n",
       "\n",
       "                                        genres  \n",
       "0  Adventure|Animation|Children|Comedy|Fantasy  \n",
       "1                   Adventure|Children|Fantasy  \n",
       "2                               Comedy|Romance  \n",
       "3                         Comedy|Drama|Romance  \n",
       "4                                       Comedy  "
      ]
     },
     "execution_count": 2,
     "metadata": {},
     "output_type": "execute_result"
    }
   ],
   "source": [
    "tempFile = pd.read_csv(\"./Data/ml-latest/movies.csv\")\n",
    "tempFile.head()"
   ]
  },
  {
   "cell_type": "code",
   "execution_count": 3,
   "metadata": {},
   "outputs": [
    {
     "name": "stdout",
     "output_type": "stream",
     "text": [
      "   Unnamed: 0  movieId                               title  \\\n",
      "0           0        1                    Toy Story (1995)   \n",
      "1           1        2                      Jumanji (1995)   \n",
      "2           2        3             Grumpier Old Men (1995)   \n",
      "3           3        4            Waiting to Exhale (1995)   \n",
      "4           4        5  Father of the Bride Part II (1995)   \n",
      "\n",
      "                                         genre  0.5  1.0  1.5   2.0   2.5  \\\n",
      "0  Adventure|Animation|Children|Comedy|Fantasy  478  840  468  2160  1665   \n",
      "1                   Adventure|Children|Fantasy  276  813  542  2551  1902   \n",
      "2                               Comedy|Romance  174  777  237  1677   629   \n",
      "3                         Comedy|Drama|Romance   48  352   31   497    77   \n",
      "4                                       Comedy  248  802  282  1737   681   \n",
      "\n",
      "     3.0   3.5    4.0   4.5    5.0  \n",
      "0  11872  6095  22710  5684  16497  \n",
      "1   8711  3116   6303   790   2139  \n",
      "2   6227   774   3440   159   1491  \n",
      "3   1136    68    557    12    211  \n",
      "4   6655   761   2989   174   1145  \n"
     ]
    }
   ],
   "source": [
    "ratings = pd.read_csv(\"./Data/ml-latest/ratings.csv\")\n",
    "comb = pd.read_csv(\"combined.csv\")\n",
    "print(comb.head())"
   ]
  },
  {
   "cell_type": "code",
   "execution_count": 31,
   "metadata": {},
   "outputs": [],
   "source": [
    "filmTitle = tempFile['title'].str.extract('(.*)\\((.*)\\).*', expand=True)\n",
    "\n",
    "filmTitle.columns = ['title', 'year']\n",
    "ids = []\n",
    "for i in range(len(filmTitle)):\n",
    "    if filmTitle['year'][i] == '2014':\n",
    "        movieid = tempFile['movieId'][i]\n",
    "        ids.append(movieid)"
   ]
  },
  {
   "cell_type": "code",
   "execution_count": 32,
   "metadata": {},
   "outputs": [],
   "source": [
    "finalIds = []\n",
    "for row in comb.itertuples():\n",
    "    totalRatings = sum(row[5:])\n",
    "    if row.movieId in ids and totalRatings > 100:\n",
    "        finalIds.append(row.movieId)"
   ]
  },
  {
   "cell_type": "code",
   "execution_count": 33,
   "metadata": {},
   "outputs": [
    {
     "name": "stdout",
     "output_type": "stream",
     "text": [
      "248\n"
     ]
    }
   ],
   "source": [
    "print(len(finalIds))"
   ]
  },
  {
   "cell_type": "code",
   "execution_count": 34,
   "metadata": {},
   "outputs": [],
   "source": [
    "# get the ratings of the movies in the ids list\n",
    "newRatings = ratings[ratings['movieId'].isin(finalIds)]"
   ]
  },
  {
   "cell_type": "code",
   "execution_count": 35,
   "metadata": {},
   "outputs": [
    {
     "name": "stdout",
     "output_type": "stream",
     "text": [
      "332635\n"
     ]
    }
   ],
   "source": [
    "print(len(newRatings))"
   ]
  },
  {
   "cell_type": "code",
   "execution_count": 36,
   "metadata": {},
   "outputs": [
    {
     "name": "stdout",
     "output_type": "stream",
     "text": [
      "      userId  movieId  rating   timestamp\n",
      "1269      14   108932     4.0  1442171420\n",
      "1271      14   109374     4.0  1444014724\n",
      "1272      14   109487     5.0  1442169518\n",
      "1273      14   112175     3.5  1442171386\n",
      "1274      14   112552     4.5  1442169439\n"
     ]
    }
   ],
   "source": [
    "print(newRatings.head())\n",
    "# store newRatings in a csv file\n",
    "newRatings.to_csv(\"./Data/year/2014.csv\", index=False)"
   ]
  },
  {
   "cell_type": "code",
   "execution_count": null,
   "metadata": {},
   "outputs": [],
   "source": []
  }
 ],
 "metadata": {
  "kernelspec": {
   "display_name": "Python 3",
   "language": "python",
   "name": "python3"
  },
  "language_info": {
   "codemirror_mode": {
    "name": "ipython",
    "version": 3
   },
   "file_extension": ".py",
   "mimetype": "text/x-python",
   "name": "python",
   "nbconvert_exporter": "python",
   "pygments_lexer": "ipython3",
   "version": "3.10.9 (main, Dec 19 2022, 17:35:49) [GCC 12.2.0]"
  },
  "orig_nbformat": 4,
  "vscode": {
   "interpreter": {
    "hash": "767d51c1340bd893661ea55ea3124f6de3c7a262a8b4abca0554b478b1e2ff90"
   }
  }
 },
 "nbformat": 4,
 "nbformat_minor": 2
}
