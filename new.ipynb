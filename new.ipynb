{
 "cells": [
  {
   "cell_type": "code",
   "execution_count": 21,
   "metadata": {},
   "outputs": [],
   "source": [
    "# import libraries for ml and data visualization and making beautiful graphs\n",
    "import pandas as pd\n",
    "import numpy as np\n",
    "import matplotlib.pyplot as plt\n",
    "import networkx as nx\n",
    "from networkx.algorithms.community import greedy_modularity_communities\n",
    "%matplotlib inline\n",
    "import community\n",
    "from tqdm import tqdm\n",
    "import json"
   ]
  },
  {
   "cell_type": "code",
   "execution_count": 84,
   "metadata": {},
   "outputs": [],
   "source": [
    "fileName = \"./Data/year/2014.json\"\n",
    "# load json file in a dictionary\n",
    "movie_ratings = json.load(open(fileName))"
   ]
  },
  {
   "cell_type": "code",
   "execution_count": null,
   "metadata": {},
   "outputs": [],
   "source": [
    "coeffs = []\n",
    "skipped = []\n",
    "for key in movie_ratings:\n",
    "    print(\"Movie Id \", key)\n",
    "    G = nx.Graph()\n",
    "    numEdges = 0\n",
    "    for key2 in movie_ratings[key]:\n",
    "        G.add_node(key2, rating=movie_ratings[key][key2])\n",
    "    skip = False\n",
    "    for u, data_u in G.nodes(data=True):\n",
    "        for v, data_v in G.nodes(data=True):\n",
    "            if u != v:\n",
    "                edge_length = abs(data_u['rating'] - data_v['rating'])\n",
    "                if edge_length <=0.5 or edge_length >= 4.5:\n",
    "                    G.add_edge(u, v, weight=edge_length)\n",
    "                    numEdges += 1\n",
    "                    # if numEdges > 1000000:\n",
    "                    #     print(\"Skipping movie \", key)\n",
    "                    #     skipped.append(key)\n",
    "                    #     skip = True\n",
    "                    #     break\n",
    "    #     if skip:\n",
    "    #         break\n",
    "    # if skip:\n",
    "    #     continue\n",
    "    print(\"Number of Edges: \", numEdges)\n",
    "    temp = nx.average_clustering(G)\n",
    "    coeffs.append(temp)\n",
    "    print(\"Average Clustering Coefficient: \", temp)\n",
    "    "
   ]
  },
  {
   "cell_type": "code",
   "execution_count": null,
   "metadata": {},
   "outputs": [],
   "source": [
    "coeffsDict = {}\n",
    "c = 0\n",
    "for key in movie_ratings:\n",
    "    if key not in skipped:\n",
    "        coeffsDict[key] = coeffs[c]\n",
    "        c+=1 \n",
    "\n",
    "print(\"Skipped movies: \", len(skipped))\n",
    "print(\"Number of movies: \", len(coeffsDict))"
   ]
  },
  {
   "cell_type": "code",
   "execution_count": 87,
   "metadata": {},
   "outputs": [],
   "source": [
    "# save the dictionary to a json file\n",
    "json.dump(coeffsDict, open(\"./Results/2014_all.json\", \"w\"))"
   ]
  },
  {
   "cell_type": "code",
   "execution_count": 88,
   "metadata": {},
   "outputs": [],
   "source": [
    "# sort the dictionary by value\n",
    "shortListedMovies = []\n",
    "for key, value in sorted(coeffsDict.items(), key=lambda item: -item[1]):\n",
    "    shortListedMovies.append(key)\n",
    "    if(len(shortListedMovies) == 20):\n",
    "        break"
   ]
  },
  {
   "cell_type": "code",
   "execution_count": 89,
   "metadata": {},
   "outputs": [],
   "source": [
    "with open ('./Results/2014_shortlisted.json', 'w') as f:\n",
    "    json.dump(shortListedMovies, f)"
   ]
  },
  {
   "cell_type": "code",
   "execution_count": null,
   "metadata": {},
   "outputs": [],
   "source": []
  }
 ],
 "metadata": {
  "kernelspec": {
   "display_name": "Python 3",
   "language": "python",
   "name": "python3"
  },
  "language_info": {
   "codemirror_mode": {
    "name": "ipython",
    "version": 3
   },
   "file_extension": ".py",
   "mimetype": "text/x-python",
   "name": "python",
   "nbconvert_exporter": "python",
   "pygments_lexer": "ipython3",
   "version": "3.10.9 (main, Dec 19 2022, 17:35:49) [GCC 12.2.0]"
  },
  "orig_nbformat": 4,
  "vscode": {
   "interpreter": {
    "hash": "767d51c1340bd893661ea55ea3124f6de3c7a262a8b4abca0554b478b1e2ff90"
   }
  }
 },
 "nbformat": 4,
 "nbformat_minor": 2
}
