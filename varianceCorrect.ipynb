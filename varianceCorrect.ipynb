{
 "cells": [
  {
   "cell_type": "code",
   "execution_count": 3,
   "metadata": {},
   "outputs": [],
   "source": [
    "# import libraries for ml and data visualization and making beautiful graphs\n",
    "import pandas as pd\n",
    "import numpy as np\n",
    "import community\n",
    "from tqdm import tqdm\n",
    "import json\n",
    "import matplotlib.pyplot as plt"
   ]
  },
  {
   "cell_type": "code",
   "execution_count": 2,
   "metadata": {},
   "outputs": [
    {
     "data": {
      "text/html": [
       "<div>\n",
       "<style scoped>\n",
       "    .dataframe tbody tr th:only-of-type {\n",
       "        vertical-align: middle;\n",
       "    }\n",
       "\n",
       "    .dataframe tbody tr th {\n",
       "        vertical-align: top;\n",
       "    }\n",
       "\n",
       "    .dataframe thead th {\n",
       "        text-align: right;\n",
       "    }\n",
       "</style>\n",
       "<table border=\"1\" class=\"dataframe\">\n",
       "  <thead>\n",
       "    <tr style=\"text-align: right;\">\n",
       "      <th></th>\n",
       "      <th>Unnamed: 0</th>\n",
       "      <th>movieId</th>\n",
       "      <th>title</th>\n",
       "      <th>genre</th>\n",
       "      <th>0.5</th>\n",
       "      <th>1.0</th>\n",
       "      <th>1.5</th>\n",
       "      <th>2.0</th>\n",
       "      <th>2.5</th>\n",
       "      <th>3.0</th>\n",
       "      <th>3.5</th>\n",
       "      <th>4.0</th>\n",
       "      <th>4.5</th>\n",
       "      <th>5.0</th>\n",
       "    </tr>\n",
       "  </thead>\n",
       "  <tbody>\n",
       "    <tr>\n",
       "      <th>0</th>\n",
       "      <td>0</td>\n",
       "      <td>1</td>\n",
       "      <td>Toy Story (1995)</td>\n",
       "      <td>Adventure|Animation|Children|Comedy|Fantasy</td>\n",
       "      <td>478</td>\n",
       "      <td>840</td>\n",
       "      <td>468</td>\n",
       "      <td>2160</td>\n",
       "      <td>1665</td>\n",
       "      <td>11872</td>\n",
       "      <td>6095</td>\n",
       "      <td>22710</td>\n",
       "      <td>5684</td>\n",
       "      <td>16497</td>\n",
       "    </tr>\n",
       "    <tr>\n",
       "      <th>1</th>\n",
       "      <td>1</td>\n",
       "      <td>2</td>\n",
       "      <td>Jumanji (1995)</td>\n",
       "      <td>Adventure|Children|Fantasy</td>\n",
       "      <td>276</td>\n",
       "      <td>813</td>\n",
       "      <td>542</td>\n",
       "      <td>2551</td>\n",
       "      <td>1902</td>\n",
       "      <td>8711</td>\n",
       "      <td>3116</td>\n",
       "      <td>6303</td>\n",
       "      <td>790</td>\n",
       "      <td>2139</td>\n",
       "    </tr>\n",
       "    <tr>\n",
       "      <th>2</th>\n",
       "      <td>2</td>\n",
       "      <td>3</td>\n",
       "      <td>Grumpier Old Men (1995)</td>\n",
       "      <td>Comedy|Romance</td>\n",
       "      <td>174</td>\n",
       "      <td>777</td>\n",
       "      <td>237</td>\n",
       "      <td>1677</td>\n",
       "      <td>629</td>\n",
       "      <td>6227</td>\n",
       "      <td>774</td>\n",
       "      <td>3440</td>\n",
       "      <td>159</td>\n",
       "      <td>1491</td>\n",
       "    </tr>\n",
       "    <tr>\n",
       "      <th>3</th>\n",
       "      <td>3</td>\n",
       "      <td>4</td>\n",
       "      <td>Waiting to Exhale (1995)</td>\n",
       "      <td>Comedy|Drama|Romance</td>\n",
       "      <td>48</td>\n",
       "      <td>352</td>\n",
       "      <td>31</td>\n",
       "      <td>497</td>\n",
       "      <td>77</td>\n",
       "      <td>1136</td>\n",
       "      <td>68</td>\n",
       "      <td>557</td>\n",
       "      <td>12</td>\n",
       "      <td>211</td>\n",
       "    </tr>\n",
       "    <tr>\n",
       "      <th>4</th>\n",
       "      <td>4</td>\n",
       "      <td>5</td>\n",
       "      <td>Father of the Bride Part II (1995)</td>\n",
       "      <td>Comedy</td>\n",
       "      <td>248</td>\n",
       "      <td>802</td>\n",
       "      <td>282</td>\n",
       "      <td>1737</td>\n",
       "      <td>681</td>\n",
       "      <td>6655</td>\n",
       "      <td>761</td>\n",
       "      <td>2989</td>\n",
       "      <td>174</td>\n",
       "      <td>1145</td>\n",
       "    </tr>\n",
       "  </tbody>\n",
       "</table>\n",
       "</div>"
      ],
      "text/plain": [
       "   Unnamed: 0  movieId                               title  \\\n",
       "0           0        1                    Toy Story (1995)   \n",
       "1           1        2                      Jumanji (1995)   \n",
       "2           2        3             Grumpier Old Men (1995)   \n",
       "3           3        4            Waiting to Exhale (1995)   \n",
       "4           4        5  Father of the Bride Part II (1995)   \n",
       "\n",
       "                                         genre  0.5  1.0  1.5   2.0   2.5  \\\n",
       "0  Adventure|Animation|Children|Comedy|Fantasy  478  840  468  2160  1665   \n",
       "1                   Adventure|Children|Fantasy  276  813  542  2551  1902   \n",
       "2                               Comedy|Romance  174  777  237  1677   629   \n",
       "3                         Comedy|Drama|Romance   48  352   31   497    77   \n",
       "4                                       Comedy  248  802  282  1737   681   \n",
       "\n",
       "     3.0   3.5    4.0   4.5    5.0  \n",
       "0  11872  6095  22710  5684  16497  \n",
       "1   8711  3116   6303   790   2139  \n",
       "2   6227   774   3440   159   1491  \n",
       "3   1136    68    557    12    211  \n",
       "4   6655   761   2989   174   1145  "
      ]
     },
     "execution_count": 2,
     "metadata": {},
     "output_type": "execute_result"
    }
   ],
   "source": [
    "ratings = pd.read_csv('combined.csv')\n",
    "ratings.head()"
   ]
  },
  {
   "cell_type": "code",
   "execution_count": 3,
   "metadata": {},
   "outputs": [
    {
     "name": "stdout",
     "output_type": "stream",
     "text": [
      "(58098, 10)\n",
      "(58098, 10)\n"
     ]
    }
   ],
   "source": [
    "rt = ratings.iloc[:, 4:].to_numpy(float)\n",
    "\n",
    "print(rt.shape)\n",
    "# to_remove = np.where(np.sum(rt, axis=1) < 1000)\n",
    "# rt = np.delete(rt, to_remove, axis=0)\n",
    "\n",
    "rt_copy = rt.copy()\n",
    "print(rt.shape)\n",
    "for i in range(10):\n",
    "    rt_copy[:, i] *= 0.5*(i+1)"
   ]
  },
  {
   "cell_type": "code",
   "execution_count": 4,
   "metadata": {},
   "outputs": [
    {
     "name": "stderr",
     "output_type": "stream",
     "text": [
      "/tmp/ipykernel_674929/2091602122.py:1: RuntimeWarning: invalid value encountered in true_divide\n",
      "  mean = np.sum(rt_copy, axis=1)/np.sum(rt, axis=1)\n"
     ]
    },
    {
     "data": {
      "text/plain": [
       "array([3.88664943, 3.24658291, 3.17398139, ..., 2.        , 2.        ,\n",
       "       3.25      ])"
      ]
     },
     "execution_count": 4,
     "metadata": {},
     "output_type": "execute_result"
    }
   ],
   "source": [
    "mean = np.sum(rt_copy, axis=1)/np.sum(rt, axis=1)\n",
    "mean"
   ]
  },
  {
   "cell_type": "code",
   "execution_count": 5,
   "metadata": {},
   "outputs": [
    {
     "data": {
      "text/plain": [
       "array([0.86405214, 0.92061012, 1.02961177, ..., 0.        , 0.        ,\n",
       "       0.5625    ])"
      ]
     },
     "execution_count": 5,
     "metadata": {},
     "output_type": "execute_result"
    }
   ],
   "source": [
    "var = np.array([0]*len(rt), dtype=float)\n",
    "for i in range(10):\n",
    "    var += rt[:,i]*((i+1)*0.5 - mean)**2\n",
    "\n",
    "\n",
    "var = var/np.sum(rt, axis=1)\n",
    "var"
   ]
  },
  {
   "cell_type": "code",
   "execution_count": null,
   "metadata": {},
   "outputs": [],
   "source": [
    "sorted_var_idx = np.argsort(var)[::-1]\n",
    "dict = {}\n",
    "\n",
    "newCsv = pd.DataFrame(columns=['movieId', 'variance'])\n",
    "\n",
    "for title, r, vid in zip(ratings.movieId.to_numpy()[sorted_var_idx], ratings.iloc[:, 4:].to_numpy()[sorted_var_idx], sorted_var_idx):\n",
    "    # store the movie id and corresponding variance in a csv file\n",
    "    if (np.sum(r) > 100):\n",
    "        # print(title, \"     \", var[vid])\n",
    "        # print(r)  \n",
    "        newCsv = newCsv.append({'movieId': str(title), 'variance': var[vid]}, ignore_index=True)"
   ]
  },
  {
   "cell_type": "code",
   "execution_count": null,
   "metadata": {},
   "outputs": [],
   "source": [
    "# store the movie id and corresponding variance in a csv file\n",
    "\n",
    "newCsv.to_csv('variance.csv', index=False)"
   ]
  },
  {
   "cell_type": "code",
   "execution_count": null,
   "metadata": {},
   "outputs": [],
   "source": [
    "print(ratings.iloc[:, 4:].to_numpy()[np.argsort(var)])"
   ]
  },
  {
   "cell_type": "code",
   "execution_count": null,
   "metadata": {},
   "outputs": [],
   "source": [
    "print(var)"
   ]
  }
 ],
 "metadata": {
  "kernelspec": {
   "display_name": "Python 3",
   "language": "python",
   "name": "python3"
  },
  "language_info": {
   "codemirror_mode": {
    "name": "ipython",
    "version": 3
   },
   "file_extension": ".py",
   "mimetype": "text/x-python",
   "name": "python",
   "nbconvert_exporter": "python",
   "pygments_lexer": "ipython3",
   "version": "3.10.9 (main, Dec 19 2022, 17:35:49) [GCC 12.2.0]"
  },
  "orig_nbformat": 4,
  "vscode": {
   "interpreter": {
    "hash": "767d51c1340bd893661ea55ea3124f6de3c7a262a8b4abca0554b478b1e2ff90"
   }
  }
 },
 "nbformat": 4,
 "nbformat_minor": 2
}
